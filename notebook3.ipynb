{
  "nbformat": 4,
  "nbformat_minor": 0,
  "metadata": {
    "colab": {
      "name": "notebook3.ipynb",
      "provenance": [],
      "collapsed_sections": []
    },
    "kernelspec": {
      "name": "python3",
      "display_name": "Python 3"
    },
    "language_info": {
      "name": "python"
    }
  },
  "cells": [
    {
      "cell_type": "code",
      "metadata": {
        "colab": {
          "base_uri": "https://localhost:8080/"
        },
        "id": "Gi1zNNC-Fs_g",
        "outputId": "d4fe45d5-421b-4027-f241-73cb53f6818f"
      },
      "source": [
        "# Mount the google drive\n",
        "from google.colab import drive\n",
        "drive.mount('/content/drive')"
      ],
      "execution_count": 1,
      "outputs": [
        {
          "output_type": "stream",
          "text": [
            "Mounted at /content/drive\n"
          ],
          "name": "stdout"
        }
      ]
    },
    {
      "cell_type": "code",
      "metadata": {
        "id": "gYizd8MCGKum"
      },
      "source": [
        "import pandas as pd"
      ],
      "execution_count": 3,
      "outputs": []
    },
    {
      "cell_type": "code",
      "metadata": {
        "id": "SM_8wMhXFyzP"
      },
      "source": [
        "workingdir = \"/content/drive/MyDrive/Manning - Liveprojects/Sentiment Analysis/dataset\"\n",
        "export_small_corpus_sentiment_neg_csv = f\"{workingdir}/small_corpus_sentiment_withnegation.csv\"\n",
        "df = pd.read_csv(export_small_corpus_sentiment_neg_csv, sep='\\t')"
      ],
      "execution_count": 4,
      "outputs": []
    },
    {
      "cell_type": "code",
      "metadata": {
        "colab": {
          "base_uri": "https://localhost:8080/",
          "height": 204
        },
        "id": "Q_iCAqigGJMW",
        "outputId": "4e539979-7647-4136-ba73-3b8a3c35056a"
      },
      "source": [
        "df.head()"
      ],
      "execution_count": 5,
      "outputs": [
        {
          "output_type": "execute_result",
          "data": {
            "text/html": [
              "<div>\n",
              "<style scoped>\n",
              "    .dataframe tbody tr th:only-of-type {\n",
              "        vertical-align: middle;\n",
              "    }\n",
              "\n",
              "    .dataframe tbody tr th {\n",
              "        vertical-align: top;\n",
              "    }\n",
              "\n",
              "    .dataframe thead th {\n",
              "        text-align: right;\n",
              "    }\n",
              "</style>\n",
              "<table border=\"1\" class=\"dataframe\">\n",
              "  <thead>\n",
              "    <tr style=\"text-align: right;\">\n",
              "      <th></th>\n",
              "      <th>ratings</th>\n",
              "      <th>reviews</th>\n",
              "      <th>sentiments</th>\n",
              "    </tr>\n",
              "  </thead>\n",
              "  <tbody>\n",
              "    <tr>\n",
              "      <th>0</th>\n",
              "      <td>1.0</td>\n",
              "      <td>Made in china... either a single bad luck of t...</td>\n",
              "      <td>0.000000</td>\n",
              "    </tr>\n",
              "    <tr>\n",
              "      <th>1</th>\n",
              "      <td>1.0</td>\n",
              "      <td>Having played all of the other games, I was so...</td>\n",
              "      <td>-0.076923</td>\n",
              "    </tr>\n",
              "    <tr>\n",
              "      <th>2</th>\n",
              "      <td>1.0</td>\n",
              "      <td>Macro buttons in the way (obviously?), can't l...</td>\n",
              "      <td>0.000000</td>\n",
              "    </tr>\n",
              "    <tr>\n",
              "      <th>3</th>\n",
              "      <td>1.0</td>\n",
              "      <td>Just received my \"Cronusmax Plus\" and after so...</td>\n",
              "      <td>-0.005780</td>\n",
              "    </tr>\n",
              "    <tr>\n",
              "      <th>4</th>\n",
              "      <td>1.0</td>\n",
              "      <td>Not worth the learning curve, the nunchuck+wii...</td>\n",
              "      <td>0.047619</td>\n",
              "    </tr>\n",
              "  </tbody>\n",
              "</table>\n",
              "</div>"
            ],
            "text/plain": [
              "   ratings                                            reviews  sentiments\n",
              "0      1.0  Made in china... either a single bad luck of t...    0.000000\n",
              "1      1.0  Having played all of the other games, I was so...   -0.076923\n",
              "2      1.0  Macro buttons in the way (obviously?), can't l...    0.000000\n",
              "3      1.0  Just received my \"Cronusmax Plus\" and after so...   -0.005780\n",
              "4      1.0  Not worth the learning curve, the nunchuck+wii...    0.047619"
            ]
          },
          "metadata": {
            "tags": []
          },
          "execution_count": 5
        }
      ]
    },
    {
      "cell_type": "markdown",
      "metadata": {
        "id": "zHgTYWiYLaRL"
      },
      "source": [
        "### Sentiment score"
      ]
    },
    {
      "cell_type": "code",
      "metadata": {
        "id": "_8eSSswlGOew"
      },
      "source": [
        "def determine_sentiment_label(sentiment):\n",
        "  if (sentiment > 0.2):\n",
        "    return 'positive'\n",
        "  if (sentiment < -0.2):\n",
        "    return 'negative'\n",
        "  return 'neutral'"
      ],
      "execution_count": 28,
      "outputs": []
    },
    {
      "cell_type": "code",
      "metadata": {
        "id": "lYNpaa4sHOuU"
      },
      "source": [
        "df['sentiment_labels'] = [determine_sentiment_label(s) for s in df['sentiments']]"
      ],
      "execution_count": 29,
      "outputs": []
    },
    {
      "cell_type": "code",
      "metadata": {
        "colab": {
          "base_uri": "https://localhost:8080/",
          "height": 204
        },
        "id": "swk-qV4oHp0k",
        "outputId": "10bab8cf-cc6c-4bbf-db6f-44edace72b9f"
      },
      "source": [
        "df.head()"
      ],
      "execution_count": 30,
      "outputs": [
        {
          "output_type": "execute_result",
          "data": {
            "text/html": [
              "<div>\n",
              "<style scoped>\n",
              "    .dataframe tbody tr th:only-of-type {\n",
              "        vertical-align: middle;\n",
              "    }\n",
              "\n",
              "    .dataframe tbody tr th {\n",
              "        vertical-align: top;\n",
              "    }\n",
              "\n",
              "    .dataframe thead th {\n",
              "        text-align: right;\n",
              "    }\n",
              "</style>\n",
              "<table border=\"1\" class=\"dataframe\">\n",
              "  <thead>\n",
              "    <tr style=\"text-align: right;\">\n",
              "      <th></th>\n",
              "      <th>ratings</th>\n",
              "      <th>reviews</th>\n",
              "      <th>sentiments</th>\n",
              "      <th>sentiment_labels</th>\n",
              "    </tr>\n",
              "  </thead>\n",
              "  <tbody>\n",
              "    <tr>\n",
              "      <th>0</th>\n",
              "      <td>1.0</td>\n",
              "      <td>Made in china... either a single bad luck of t...</td>\n",
              "      <td>0.000000</td>\n",
              "      <td>neutral</td>\n",
              "    </tr>\n",
              "    <tr>\n",
              "      <th>1</th>\n",
              "      <td>1.0</td>\n",
              "      <td>Having played all of the other games, I was so...</td>\n",
              "      <td>-0.076923</td>\n",
              "      <td>neutral</td>\n",
              "    </tr>\n",
              "    <tr>\n",
              "      <th>2</th>\n",
              "      <td>1.0</td>\n",
              "      <td>Macro buttons in the way (obviously?), can't l...</td>\n",
              "      <td>0.000000</td>\n",
              "      <td>neutral</td>\n",
              "    </tr>\n",
              "    <tr>\n",
              "      <th>3</th>\n",
              "      <td>1.0</td>\n",
              "      <td>Just received my \"Cronusmax Plus\" and after so...</td>\n",
              "      <td>-0.005780</td>\n",
              "      <td>neutral</td>\n",
              "    </tr>\n",
              "    <tr>\n",
              "      <th>4</th>\n",
              "      <td>1.0</td>\n",
              "      <td>Not worth the learning curve, the nunchuck+wii...</td>\n",
              "      <td>0.047619</td>\n",
              "      <td>neutral</td>\n",
              "    </tr>\n",
              "  </tbody>\n",
              "</table>\n",
              "</div>"
            ],
            "text/plain": [
              "   ratings  ... sentiment_labels\n",
              "0      1.0  ...          neutral\n",
              "1      1.0  ...          neutral\n",
              "2      1.0  ...          neutral\n",
              "3      1.0  ...          neutral\n",
              "4      1.0  ...          neutral\n",
              "\n",
              "[5 rows x 4 columns]"
            ]
          },
          "metadata": {
            "tags": []
          },
          "execution_count": 30
        }
      ]
    },
    {
      "cell_type": "markdown",
      "metadata": {
        "id": "G6puE8nZLprp"
      },
      "source": [
        "## Rating score"
      ]
    },
    {
      "cell_type": "code",
      "metadata": {
        "id": "AQ4xm5lXIBvI"
      },
      "source": [
        "def determine_rating_label(sentiment):\n",
        "  if (sentiment == 5):\n",
        "    return 'positive'\n",
        "  if (sentiment == 1):\n",
        "    return 'negative'\n",
        "  return 'neutral'"
      ],
      "execution_count": 31,
      "outputs": []
    },
    {
      "cell_type": "code",
      "metadata": {
        "id": "EDEYBOZeL2Bh"
      },
      "source": [
        "df['rating_labels'] = [determine_rating_label(s) for s in df['sentiments']]"
      ],
      "execution_count": 32,
      "outputs": []
    },
    {
      "cell_type": "code",
      "metadata": {
        "colab": {
          "base_uri": "https://localhost:8080/",
          "height": 204
        },
        "id": "9MxSt2bOL53W",
        "outputId": "329b63d9-8564-49d6-c503-0187568b7bc5"
      },
      "source": [
        "df.head()"
      ],
      "execution_count": 33,
      "outputs": [
        {
          "output_type": "execute_result",
          "data": {
            "text/html": [
              "<div>\n",
              "<style scoped>\n",
              "    .dataframe tbody tr th:only-of-type {\n",
              "        vertical-align: middle;\n",
              "    }\n",
              "\n",
              "    .dataframe tbody tr th {\n",
              "        vertical-align: top;\n",
              "    }\n",
              "\n",
              "    .dataframe thead th {\n",
              "        text-align: right;\n",
              "    }\n",
              "</style>\n",
              "<table border=\"1\" class=\"dataframe\">\n",
              "  <thead>\n",
              "    <tr style=\"text-align: right;\">\n",
              "      <th></th>\n",
              "      <th>ratings</th>\n",
              "      <th>reviews</th>\n",
              "      <th>sentiments</th>\n",
              "      <th>sentiment_labels</th>\n",
              "      <th>rating_labels</th>\n",
              "    </tr>\n",
              "  </thead>\n",
              "  <tbody>\n",
              "    <tr>\n",
              "      <th>0</th>\n",
              "      <td>1.0</td>\n",
              "      <td>Made in china... either a single bad luck of t...</td>\n",
              "      <td>0.000000</td>\n",
              "      <td>neutral</td>\n",
              "      <td>neutral</td>\n",
              "    </tr>\n",
              "    <tr>\n",
              "      <th>1</th>\n",
              "      <td>1.0</td>\n",
              "      <td>Having played all of the other games, I was so...</td>\n",
              "      <td>-0.076923</td>\n",
              "      <td>neutral</td>\n",
              "      <td>neutral</td>\n",
              "    </tr>\n",
              "    <tr>\n",
              "      <th>2</th>\n",
              "      <td>1.0</td>\n",
              "      <td>Macro buttons in the way (obviously?), can't l...</td>\n",
              "      <td>0.000000</td>\n",
              "      <td>neutral</td>\n",
              "      <td>neutral</td>\n",
              "    </tr>\n",
              "    <tr>\n",
              "      <th>3</th>\n",
              "      <td>1.0</td>\n",
              "      <td>Just received my \"Cronusmax Plus\" and after so...</td>\n",
              "      <td>-0.005780</td>\n",
              "      <td>neutral</td>\n",
              "      <td>neutral</td>\n",
              "    </tr>\n",
              "    <tr>\n",
              "      <th>4</th>\n",
              "      <td>1.0</td>\n",
              "      <td>Not worth the learning curve, the nunchuck+wii...</td>\n",
              "      <td>0.047619</td>\n",
              "      <td>neutral</td>\n",
              "      <td>neutral</td>\n",
              "    </tr>\n",
              "  </tbody>\n",
              "</table>\n",
              "</div>"
            ],
            "text/plain": [
              "   ratings  ... rating_labels\n",
              "0      1.0  ...       neutral\n",
              "1      1.0  ...       neutral\n",
              "2      1.0  ...       neutral\n",
              "3      1.0  ...       neutral\n",
              "4      1.0  ...       neutral\n",
              "\n",
              "[5 rows x 5 columns]"
            ]
          },
          "metadata": {
            "tags": []
          },
          "execution_count": 33
        }
      ]
    },
    {
      "cell_type": "markdown",
      "metadata": {
        "id": "VEajUqtMMDsK"
      },
      "source": [
        "## Export"
      ]
    },
    {
      "cell_type": "code",
      "metadata": {
        "id": "_93bc4ekMCny"
      },
      "source": [
        "def exportcsv(dataframe, fname):\n",
        "  with open(fname, \"w\") as outfile:\n",
        "    outfile.write(dataframe.to_csv( index=False, sep=\"\\t\", encoding=\"utf-8\"))\n",
        "\n",
        "export_small_corpus_sentiment_scores_csv = f\"{workingdir}/small_corpus_sentiment_scores.csv\"\n",
        "exportcsv(df, export_small_corpus_sentiment_scores_csv)"
      ],
      "execution_count": 34,
      "outputs": []
    },
    {
      "cell_type": "markdown",
      "metadata": {
        "id": "meFz2bdaMom8"
      },
      "source": [
        "## Evaluate"
      ]
    },
    {
      "cell_type": "code",
      "metadata": {
        "id": "eq0O0DfpL7Hz"
      },
      "source": [
        "from sklearn.metrics import accuracy_score, confusion_matrix, classification_report\n",
        "import seaborn as sns"
      ],
      "execution_count": 38,
      "outputs": []
    },
    {
      "cell_type": "code",
      "metadata": {
        "colab": {
          "base_uri": "https://localhost:8080/"
        },
        "id": "M4ns5hjWNCM-",
        "outputId": "76068f14-97ec-4a26-d6d2-8019cf23f981"
      },
      "source": [
        "accuracy_score(df['sentiment_labels'], df['rating_labels'])"
      ],
      "execution_count": 39,
      "outputs": [
        {
          "output_type": "execute_result",
          "data": {
            "text/plain": [
              "0.9122222222222223"
            ]
          },
          "metadata": {
            "tags": []
          },
          "execution_count": 39
        }
      ]
    },
    {
      "cell_type": "code",
      "metadata": {
        "colab": {
          "base_uri": "https://localhost:8080/",
          "height": 318
        },
        "id": "BuIJ2gQyNMuH",
        "outputId": "7e954a9e-c93b-46ba-9063-8b7108418364"
      },
      "source": [
        "labels = [\"negative\",  \"neutral\", \"positive\"]\n",
        "cm = confusion_matrix(df['sentiment_labels'], df['rating_labels'])\n",
        "sns.heatmap(cm, annot=True, fmt=\"d\", xticklabels=labels, yticklabels=labels)\n",
        "print(cm)"
      ],
      "execution_count": 62,
      "outputs": [
        {
          "output_type": "stream",
          "text": [
            "[[   0   51    0]\n",
            " [   0 4105    0]\n",
            " [  80  264    0]]\n"
          ],
          "name": "stdout"
        },
        {
          "output_type": "display_data",
          "data": {
            "image/png": "[encoded data removed]",
            "text/plain": [
              "<Figure size 432x288 with 2 Axes>"
            ]
          },
          "metadata": {
            "tags": [],
            "needs_background": "light"
          }
        }
      ]
    },
    {
      "cell_type": "code",
      "metadata": {
        "colab": {
          "base_uri": "https://localhost:8080/"
        },
        "id": "HNfjJYUZT_VC",
        "outputId": "0780e801-db56-42bc-bbd4-23da30d3bb74"
      },
      "source": [
        "print(classification_report(df['sentiment_labels'], df['rating_labels'], target_names=labels))"
      ],
      "execution_count": 57,
      "outputs": [
        {
          "output_type": "stream",
          "text": [
            "              precision    recall  f1-score   support\n",
            "\n",
            "    negative       0.00      0.00      0.00        51\n",
            "     neutral       0.93      1.00      0.96      4105\n",
            "    positive       0.00      0.00      0.00       344\n",
            "\n",
            "    accuracy                           0.91      4500\n",
            "   macro avg       0.31      0.33      0.32      4500\n",
            "weighted avg       0.85      0.91      0.88      4500\n",
            "\n"
          ],
          "name": "stdout"
        },
        {
          "output_type": "stream",
          "text": [
            "/usr/local/lib/python3.7/dist-packages/sklearn/metrics/_classification.py:1272: UndefinedMetricWarning: Precision and F-score are ill-defined and being set to 0.0 in labels with no predicted samples. Use `zero_division` parameter to control this behavior.\n",
            "  _warn_prf(average, modifier, msg_start, len(result))\n"
          ],
          "name": "stderr"
        }
      ]
    },
    {
      "cell_type": "code",
      "metadata": {
        "id": "6bn_csVuTcj1"
      },
      "source": [
        ""
      ],
      "execution_count": null,
      "outputs": []
    }
  ]
}